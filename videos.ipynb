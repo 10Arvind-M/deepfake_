{
 "cells": [
  {
   "cell_type": "code",
   "execution_count": 1,
   "metadata": {},
   "outputs": [],
   "source": [
    "import sys\n",
    "import os\n",
    "import torch\n",
    "import matplotlib.pyplot as plt\n",
    "import cv2\n",
    "import numpy as np\n",
    "from transformers import ViTImageProcessor, ViTForImageClassification, TrainingArguments, Trainer\n",
    "import tempfile\n",
    "\n",
    "# Suppress TensorFlow oneDNN warning\n",
    "os.environ['TF_ENABLE_ONEDNN_OPTS'] = '0'"
   ]
  },
  {
   "cell_type": "code",
   "execution_count": 4,
   "metadata": {},
   "outputs": [
    {
     "name": "stderr",
     "output_type": "stream",
     "text": [
      "Some weights of ViTForImageClassification were not initialized from the model checkpoint at google/vit-base-patch16-224-in21k and are newly initialized: ['classifier.bias', 'classifier.weight']\n",
      "You should probably TRAIN this model on a down-stream task to be able to use it for predictions and inference.\n"
     ]
    },
    {
     "name": "stdout",
     "output_type": "stream",
     "text": [
      "Model is running on: cpu\n"
     ]
    }
   ],
   "source": [
    "# Cell 2: Model Initialization\n",
    "\n",
    "import torch\n",
    "from transformers import ViTForImageClassification\n",
    "\n",
    "# Ensure you are working on the correct device\n",
    "device = torch.device(\"cuda\" if torch.cuda.is_available() else \"cpu\")\n",
    "\n",
    "# Load the pre-trained model with fine-tuning capability\n",
    "model = ViTForImageClassification.from_pretrained(\n",
    "    'google/vit-base-patch16-224-in21k', \n",
    "    num_labels=2, \n",
    "    ignore_mismatched_sizes=True  # To handle uninitialized weights\n",
    ")\n",
    "\n",
    "# Move the model to the device (GPU/CPU)\n",
    "model = model.to(device)\n",
    "\n",
    "# Set the model to evaluation mode\n",
    "model.eval()\n",
    "\n",
    "# Optional: Print model device to verify\n",
    "print(f\"Model is running on: {device}\")\n",
    "\n",
    "# Optional fine-tuning setup\n",
    "from transformers import TrainingArguments, Trainer\n",
    "\n",
    "training_args = TrainingArguments(\n",
    "    output_dir='./results',\n",
    "    evaluation_strategy=\"epoch\",\n",
    "    per_device_train_batch_size=8,\n",
    "    per_device_eval_batch_size=8,\n",
    "    num_train_epochs=5,\n",
    "    logging_dir='./logs'\n",
    ")\n",
    "\n",
    "trainer = Trainer(\n",
    "    model=model,\n",
    "    args=training_args\n",
    ")\n",
    "\n",
    "# Optional: Trigger training for fine-tuning (requires dataset)\n",
    "#trainer.train()\n"
   ]
  },
  {
   "cell_type": "code",
   "execution_count": 5,
   "metadata": {},
   "outputs": [],
   "source": [
    "def extract_frames(video_path, num_frames=5):\n",
    "    cap = cv2.VideoCapture(video_path)\n",
    "    frames = []\n",
    "    frame_count = int(cap.get(cv2.CAP_PROP_FRAME_COUNT))\n",
    "    step = max(1, frame_count // num_frames)\n",
    "    for i in range(0, frame_count, step):\n",
    "        cap.set(cv2.CAP_PROP_POS_FRAMES, i)\n",
    "        ret, frame = cap.read()\n",
    "        if ret:\n",
    "            frame = cv2.resize(frame, (224, 224))\n",
    "            frames.append(frame)\n",
    "        if len(frames) == num_frames:\n",
    "            break\n",
    "    cap.release()\n",
    "    return frames"
   ]
  },
  {
   "cell_type": "code",
   "execution_count": 6,
   "metadata": {},
   "outputs": [],
   "source": [
    "def predict_video(video_path):\n",
    "    frames = extract_frames(video_path)\n",
    "    image_processor = ViTImageProcessor.from_pretrained('google/vit-base-patch16-224-in21k')\n",
    "    inputs = image_processor(images=frames, return_tensors=\"pt\")\n",
    "    outputs = model(**inputs).logits\n",
    "    preds = torch.argmax(outputs, dim=1).numpy()\n",
    "    return preds.mean(), preds"
   ]
  },
  {
   "cell_type": "code",
   "execution_count": 7,
   "metadata": {},
   "outputs": [],
   "source": [
    "def plot_confidence_histogram(preds):\n",
    "    plt.hist(preds, bins=10, color='blue', alpha=0.7)\n",
    "    plt.title(\"Prediction Confidence Distribution\")\n",
    "    plt.xlabel(\"Confidence Score\")\n",
    "    plt.ylabel(\"Frequency\")\n",
    "    plt.show()"
   ]
  },
  {
   "cell_type": "code",
   "execution_count": 6,
   "metadata": {},
   "outputs": [],
   "source": [
    "# Cell 6: Optional Fine-tuning Logic (if user has new datasets)\n",
    "\n",
    "# Uncomment and implement this cell if you want to fine-tune the model with a custom dataset.\n",
    "# train_dataset and eval_dataset need to be defined beforehand.\n",
    "# if fine_tune:\n",
    "#     trainer.train()\n",
    "#     trainer.save_model('./vit_retrained_model')\n",
    "#     print(\"Model fine-tuned and saved.\")"
   ]
  },
  {
   "cell_type": "code",
   "execution_count": 11,
   "metadata": {},
   "outputs": [
    {
     "name": "stdout",
     "output_type": "stream",
     "text": [
      "Prediction Score (mean): 0.6\n"
     ]
    },
    {
     "data": {
      "image/png": "[encoded data removed]",
      "text/plain": [
       "<Figure size 640x480 with 1 Axes>"
      ]
     },
     "metadata": {},
     "output_type": "display_data"
    },
    {
     "name": "stdout",
     "output_type": "stream",
     "text": [
      "The video is likely **fake**!\n"
     ]
    }
   ],
   "source": [
    "video_path =r\"C:\\Users\\arvin\\Downloads\\download.mp4\"\n",
    "\n",
    "# Predict the video\n",
    "prediction, preds = predict_video(video_path)\n",
    "print(f\"Prediction Score (mean): {prediction}\")\n",
    "\n",
    "# Visualize the confidence score distribution\n",
    "plot_confidence_histogram(preds)\n",
    "\n",
    "# Determine if the video is likely fake or real\n",
    "if prediction > 0.5:\n",
    "    print(\"The video is likely **fake**!\")\n",
    "else:\n",
    "    print(\"The video is likely **real**.\")"
   ]
  },
  {
   "cell_type": "code",
   "execution_count": 8,
   "metadata": {},
   "outputs": [
    {
     "name": "stdout",
     "output_type": "stream",
     "text": [
      "              precision    recall  f1-score   support\n",
      "\n",
      "           0       0.91      0.98      0.94        51\n",
      "           1       0.98      0.89      0.93        47\n",
      "\n",
      "    accuracy                           0.94        98\n",
      "   macro avg       0.94      0.94      0.94        98\n",
      "weighted avg       0.94      0.94      0.94        98\n",
      "\n",
      "Test Accuracy: 0.9388\n"
     ]
    }
   ],
   "source": [
    "def evaluate_model(model, test_loader):\n",
    "    model.eval()\n",
    "    all_preds = []\n",
    "    all_labels = []\n",
    "    with torch.no_grad():\n",
    "        for inputs, labels in test_loader:\n",
    "            inputs = inputs.to(device)\n",
    "            labels = labels.to(device)\n",
    "            outputs = model(inputs).logits\n",
    "            _, preds = torch.max(outputs, 1)\n",
    "            all_preds.extend(preds.cpu().numpy())\n",
    "            all_labels.extend(labels.cpu().numpy())\n",
    "    return all_labels, all_preds\n",
    "\n",
    "y_true, y_pred = evaluate_model(model, test_loader)\n",
    "print(classification_report(y_true, y_pred))\n",
    "print(f\"Test Accuracy: {accuracy_score(y_true, y_pred):.4f}\")\n"
   ]
  },
  {
   "cell_type": "code",
   "execution_count": 9,
   "metadata": {},
   "outputs": [],
   "source": [
    "torch.save(model.state_dict(), 'vit_deepfake_model.pth')\n"
   ]
  }
 ],
 "metadata": {
  "kernelspec": {
   "display_name": "Python 3",
   "language": "python",
   "name": "python3"
  },
  "language_info": {
   "codemirror_mode": {
    "name": "ipython",
    "version": 3
   },
   "file_extension": ".py",
   "mimetype": "text/x-python",
   "name": "python",
   "nbconvert_exporter": "python",
   "pygments_lexer": "ipython3",
   "version": "3.12.4"
  }
 },
 "nbformat": 4,
 "nbformat_minor": 2
}
